{
  "nbformat": 4,
  "nbformat_minor": 0,
  "metadata": {
    "colab": {
      "name": "preprocessing.ipynb",
      "provenance": []
    },
    "kernelspec": {
      "display_name": "Python 3",
      "name": "python3"
    }
  },
  "cells": [
    {
      "cell_type": "code",
      "metadata": {
        "id": "HEGolzhYDpMY",
        "colab": {
          "base_uri": "https://localhost:8080/"
        },
        "outputId": "2f21e6e8-0109-40e3-c8a6-580a7937b1b1"
      },
      "source": [
        "import pickle\r\n",
        "import spacy\r\n",
        "import os\r\n",
        "import re, string, unicodedata\r\n",
        "import nltk\r\n",
        "!pip install contractions\r\n",
        "!pip install inflect\r\n",
        "import contractions\r\n",
        "import inflect\r\n",
        "from bs4 import BeautifulSoup\r\n",
        "from nltk import word_tokenize, sent_tokenize\r\n",
        "from nltk.corpus import stopwords,wordnet\r\n",
        "from nltk.stem import WordNetLemmatizer\r\n",
        "nltk.download('averaged_perceptron_tagger')\r\n",
        "nltk.download('punkt')\r\n",
        "nltk.download('wordnet')\r\n",
        "nltk.download('stopwords')"
      ],
      "execution_count": 1,
      "outputs": [
        {
          "output_type": "stream",
          "text": [
            "Collecting contractions\n",
            "  Downloading https://files.pythonhosted.org/packages/0a/04/d5e0bb9f2cef5d15616ebf68087a725c5dbdd71bd422bcfb35d709f98ce7/contractions-0.0.48-py2.py3-none-any.whl\n",
            "Collecting textsearch>=0.0.21\n",
            "  Downloading https://files.pythonhosted.org/packages/d3/fe/021d7d76961b5ceb9f8d022c4138461d83beff36c3938dc424586085e559/textsearch-0.0.21-py2.py3-none-any.whl\n",
            "Collecting pyahocorasick\n",
            "\u001b[?25l  Downloading https://files.pythonhosted.org/packages/4a/92/b3c70b8cf2b76f7e3e8b7243d6f06f7cb3bab6ada237b1bce57604c5c519/pyahocorasick-1.4.1.tar.gz (321kB)\n",
            "\u001b[K     |████████████████████████████████| 327kB 7.6MB/s \n",
            "\u001b[?25hCollecting anyascii\n",
            "\u001b[?25l  Downloading https://files.pythonhosted.org/packages/09/c7/61370d9e3c349478e89a5554c1e5d9658e1e3116cc4f2528f568909ebdf1/anyascii-0.1.7-py3-none-any.whl (260kB)\n",
            "\u001b[K     |████████████████████████████████| 266kB 13.3MB/s \n",
            "\u001b[?25hBuilding wheels for collected packages: pyahocorasick\n",
            "  Building wheel for pyahocorasick (setup.py) ... \u001b[?25l\u001b[?25hdone\n",
            "  Created wheel for pyahocorasick: filename=pyahocorasick-1.4.1-cp37-cp37m-linux_x86_64.whl size=85251 sha256=5650aa1b35f9ad5af3f56d242c3a45744ab5ed43eb0fb0ef942156b3dc71caf4\n",
            "  Stored in directory: /root/.cache/pip/wheels/e4/ab/f7/cb39270df8f6126f3dd4c33d302357167086db460968cfc80c\n",
            "Successfully built pyahocorasick\n",
            "Installing collected packages: pyahocorasick, anyascii, textsearch, contractions\n",
            "Successfully installed anyascii-0.1.7 contractions-0.0.48 pyahocorasick-1.4.1 textsearch-0.0.21\n",
            "Requirement already satisfied: inflect in /usr/local/lib/python3.7/dist-packages (2.1.0)\n",
            "[nltk_data] Downloading package averaged_perceptron_tagger to\n",
            "[nltk_data]     /root/nltk_data...\n",
            "[nltk_data]   Unzipping taggers/averaged_perceptron_tagger.zip.\n",
            "[nltk_data] Downloading package punkt to /root/nltk_data...\n",
            "[nltk_data]   Unzipping tokenizers/punkt.zip.\n",
            "[nltk_data] Downloading package wordnet to /root/nltk_data...\n",
            "[nltk_data]   Unzipping corpora/wordnet.zip.\n",
            "[nltk_data] Downloading package stopwords to /root/nltk_data...\n",
            "[nltk_data]   Unzipping corpora/stopwords.zip.\n"
          ],
          "name": "stdout"
        },
        {
          "output_type": "execute_result",
          "data": {
            "text/plain": [
              "True"
            ]
          },
          "metadata": {
            "tags": []
          },
          "execution_count": 1
        }
      ]
    },
    {
      "cell_type": "code",
      "metadata": {
        "id": "ecgzA6gwExdE"
      },
      "source": [
        "def DoctoDict():\r\n",
        "  file_Names = os.listdir(\"/content/drive/MyDrive/IR_ASSIGNMENT_1/stories1\")\r\n",
        "  file_Paths = []\r\n",
        "  for i in range(len(file_Names)):\r\n",
        "    file_Paths.append(\"/content/drive/MyDrive/IR_ASSIGNMENT_1/stories1/\"+file_Names[i])\r\n",
        "  corpus = {}\r\n",
        "  for i in range(len(file_Paths)):\r\n",
        "    with open(file_Paths[i],encoding = \"latin-1\") as f_input:\r\n",
        "      corpus[file_Names[i]] = [f_input.read()]\r\n",
        "  return corpus"
      ],
      "execution_count": 2,
      "outputs": []
    },
    {
      "cell_type": "code",
      "metadata": {
        "id": "DVYdVrsbI7JJ"
      },
      "source": [
        "CORPUS = DoctoDict()\r\n",
        "with open('CORPUS.pickle', 'wb') as handle:\r\n",
        "  pickle.dump(CORPUS, handle, protocol=pickle.HIGHEST_PROTOCOL)"
      ],
      "execution_count": 3,
      "outputs": []
    },
    {
      "cell_type": "code",
      "metadata": {
        "colab": {
          "base_uri": "https://localhost:8080/"
        },
        "id": "ICteejq_wa7a",
        "outputId": "5023f83f-8733-4d03-e26d-988c86e2233a"
      },
      "source": [
        "with open('/content/CORPUS.pickle', 'rb') as handle:\r\n",
        "  corpus = pickle.load(handle)\r\n",
        "\r\n",
        "len(corpus.keys())"
      ],
      "execution_count": 4,
      "outputs": [
        {
          "output_type": "execute_result",
          "data": {
            "text/plain": [
              "467"
            ]
          },
          "metadata": {
            "tags": []
          },
          "execution_count": 4
        }
      ]
    },
    {
      "cell_type": "code",
      "metadata": {
        "id": "eM6mJ8drTPNA"
      },
      "source": [
        "def strip_html(text):\r\n",
        "    soup = BeautifulSoup(text, \"html.parser\")\r\n",
        "    return soup.get_text()\r\n",
        "\r\n",
        "def remove_between_square_brackets(text):\r\n",
        "    text=re.sub('\\n',' ',text)\r\n",
        "    return re.sub('\\[[^]]*\\]', '', text)\r\n",
        "\r\n",
        "def denoise_text(text):\r\n",
        "    text = strip_html(text)\r\n",
        "    text = remove_between_square_brackets(text)\r\n",
        "    return text\r\n",
        "\r\n",
        "def replace_contractions(text):\r\n",
        "    return contractions.fix(text)\r\n",
        "\r\n",
        "def remove_non_ascii(words):\r\n",
        "    \"\"\"Remove non-ASCII characters from list of tokenized words\"\"\"\r\n",
        "    new_words = []\r\n",
        "    for word in words:\r\n",
        "        new_word = unicodedata.normalize('NFKD', word).encode('ascii', 'ignore').decode('utf-8', 'ignore')\r\n",
        "        new_words.append(new_word)\r\n",
        "    return new_words\r\n",
        "\r\n",
        "def to_lowercase(words):\r\n",
        "    \"\"\"Convert all characters to lowercase from list of tokenized words\"\"\"\r\n",
        "    new_words = []\r\n",
        "    for word in words:\r\n",
        "        new_word = word.lower()\r\n",
        "        new_words.append(new_word)\r\n",
        "    return new_words\r\n",
        "\r\n",
        "def remove_punctuation(words):\r\n",
        "    \"\"\"Remove punctuation from list of tokenized words\"\"\"\r\n",
        "    new_words = []\r\n",
        "    for word in words:\r\n",
        "        new_word = re.sub(r'[^\\w\\s]', '', word)\r\n",
        "        if new_word != '':\r\n",
        "            new_words.append(new_word)\r\n",
        "    return new_words\r\n",
        "\r\n",
        "def remove_stopwords(words):\r\n",
        "    \"\"\"Remove stop words from list of tokenized words\"\"\"\r\n",
        "    new_words = []\r\n",
        "    for word in words:\r\n",
        "        if word not in stopwords.words('english'):\r\n",
        "            new_words.append(word)\r\n",
        "    return new_words\r\n",
        "\r\n",
        "def get_wordnet_pos(tag):\r\n",
        "    tag_dict = {\"J\": wordnet.ADJ,\"N\": wordnet.NOUN,\"V\": wordnet.VERB,\"R\": wordnet.ADV}\r\n",
        "    return tag_dict.get(tag,wordnet.NOUN)\r\n",
        "\r\n",
        "def lemmatize(words):\r\n",
        "    \"\"\"Lemmatize words in list of tokenized words\"\"\"\r\n",
        "    lemmatizer = WordNetLemmatizer()\r\n",
        "    lemmas = []\r\n",
        "    posTagged = nltk.pos_tag(words)\r\n",
        "    wordnetTagged = list(map(lambda x: (x[0], get_wordnet_pos(x[1][0])), posTagged))\r\n",
        "    for word,tag in wordnetTagged:\r\n",
        "      lemma = lemmatizer.lemmatize(word,tag)\r\n",
        "      lemmas.append(lemma)\r\n",
        "    return lemmas\r\n",
        "\r\n",
        "def lemmatizeSpacy(words):\r\n",
        "  sent = \"\"\r\n",
        "  lwords = []\r\n",
        "  for word in words:\r\n",
        "    sent += word + \" \" \r\n",
        "  model = spacy.load(\"en_core_web_sm\")\r\n",
        "  tokens = model(sent)\r\n",
        "  for token in tokens:\r\n",
        "    lwords.append(token.lemma_)\r\n",
        "  return lwords\r\n",
        "\r\n",
        "def preProcess_html(fileName):\r\n",
        "    sample = denoise_text(fileName)\r\n",
        "    sample = replace_contractions(sample)\r\n",
        "    words = nltk.word_tokenize(sample)\r\n",
        "    words = remove_non_ascii(words)\r\n",
        "    words = to_lowercase(words)\r\n",
        "    words = remove_punctuation(words)\r\n",
        "    words = remove_stopwords(words)\r\n",
        "    # words = lemmatize(words)\r\n",
        "    # words = lemmatizeSpacy(words)\r\n",
        "    return words  \r\n",
        "\r\n",
        "def clean_text(text):\r\n",
        "    # text=re.sub('\\w*\\d\\w*','', text)\r\n",
        "    text=re.sub('\\n',' ',text)\r\n",
        "    text=re.sub(r\"http\\S+\", \"\", text)\r\n",
        "    text=re.sub('[^a-z0-9A-Z]',' ',text)\r\n",
        "    text=re.sub(' +',' ',text)\r\n",
        "    return text\r\n",
        "\r\n",
        "def preProcessotherfiles(fileName):\r\n",
        "    sample = clean_text(fileName)\r\n",
        "    sample = replace_contractions(sample)\r\n",
        "    words = nltk.word_tokenize(sample)\r\n",
        "    words = remove_non_ascii(words)\r\n",
        "    words = to_lowercase(words)\r\n",
        "    words = remove_punctuation(words)\r\n",
        "    words = remove_stopwords(words)\r\n",
        "    # words = lemmatize(words)\r\n",
        "    # words = lemmatizeSpacy(words)\r\n",
        "    return words \r\n"
      ],
      "execution_count": 5,
      "outputs": []
    },
    {
      "cell_type": "code",
      "metadata": {
        "id": "eFsKQI7MlBg7"
      },
      "source": [
        "for i in corpus.keys():\r\n",
        "  if i.endswith(\".html\") or i.endswith(\".header\"):\r\n",
        "    corpus[i][0] = preProcess_html(corpus[i][0])\r\n",
        "  else:\r\n",
        "    corpus[i][0] = preProcessotherfiles(corpus[i][0])"
      ],
      "execution_count": 6,
      "outputs": []
    },
    {
      "cell_type": "code",
      "metadata": {
        "colab": {
          "base_uri": "https://localhost:8080/"
        },
        "id": "8MS58BBPjf-d",
        "outputId": "28db4a54-21a5-44d3-c566-f979d507a03c"
      },
      "source": [
        "len(corpus.keys())"
      ],
      "execution_count": 7,
      "outputs": [
        {
          "output_type": "execute_result",
          "data": {
            "text/plain": [
              "467"
            ]
          },
          "metadata": {
            "tags": []
          },
          "execution_count": 7
        }
      ]
    },
    {
      "cell_type": "code",
      "metadata": {
        "id": "ySq0jJn8oexi"
      },
      "source": [
        "# with open('DocTerms_NoLemm.pickle', 'wb') as handle:\r\n",
        "  # pickle.dump(corpus, handle, protocol=pickle.HIGHEST_PROTOCOL)\r\n",
        "\r\n",
        "with open('/content/DocTerms_NoLemm.pickle', 'rb') as handle:\r\n",
        "   docT = pickle.load(handle)"
      ],
      "execution_count": 9,
      "outputs": []
    },
    {
      "cell_type": "code",
      "metadata": {
        "colab": {
          "base_uri": "https://localhost:8080/"
        },
        "id": "vzB7BtfVKu49",
        "outputId": "f046b342-1d5d-4ec6-eb26-13ac28de0532"
      },
      "source": [
        "docT.keys()"
      ],
      "execution_count": 10,
      "outputs": [
        {
          "output_type": "execute_result",
          "data": {
            "text/plain": [
              "dict_keys(['aluminum.hum', 'life.txt', 'sight.txt', 'cameloto.hum', 'beyond.hum', 'partya.txt', 'nitepeek.sto', 'blind.txt', 'altside.hum', 'abyss.txt', 't_zone.jok', 'fantas.hum', 'advsayed.txt', 'eyeargon.hum', 'elite.app', 'rocket.sf', 'corcor.hum', 'elveshoe.txt', 'ab40thv.txt', 'gold3ber.txt', 'game.txt', 'excerpt.txt', 'knuckle.txt', 'emperor3.txt', 'empnclot.txt', 'abbey.txt', 'advtthum.txt', 'archive', 'wolfcran.txt', 'immorti.hum', 'wlgirl.txt', 'cooldark.sto', 'wolf7kid.txt', 'vday.hum', 'imagin.hum', 'adv_alad.txt', 'wombat.und', 'gemdra.txt', 'aircon.txt', 'wolflamb.txt', 'testpilo.hum', 'valen', 'confilct.fun', 'narciss.txt', 'enchdup.hum', 'ladylust.hum', 'tcoa.txt', 'enginer.txt', 'encamp01.txt', 'korea.s', 'taxnovel.txt', 'greedog.txt', 'keepmodu.txt', 'vainsong.txt', 'goldgoos.txt', 'quickfix', 'goldbug.poe', 'omarsheh.txt', 'grav', 'empty.txt', 'oxfrog.txt', 'gulliver.txt', 'obstgoat.txt', 'gay', 'ghost', 'goldfish.txt', 'tao3.dos', 'empsjowk.txt', 'enya_trn.txt', 'quot', 'kharian.txt', 'ezoff', 'girlclub.txt', 'tctac.txt', 'gatherng.txt', 'tailbear.txt', 'traitor.txt', 'gloves.txt', 'vampword.txt', 'girl', 'vaincrow.txt', 'enc', 'qcarroll', 'goldenp.txt', 'greatlrn.leg', 'yukon.txt', 'veiledl.txt', 'write', 'unluckwr.txt', 'wrt', 'uglyduck.txt', 'weeprncs.txt', 'lgoldbrd.txt', 'aminegg.txt', 'alissadl.txt', 'antcrick.txt', 'aquith.txt', 'beast.asc', 'bulzork1.txt', 'bulironb.txt', 'bureau.txt', 'beautbst.txt', 'bulphrek.txt', 'bgcspoof.txt', 'bulfelis.txt', 'burintrv.66', 'burltrs', 'burintrv.92', 'burintrv.78', 'rid.txt', 'mindprob.txt', 'lament.txt', 'kzap.txt', 'sucker.txt', 'mike.txt', 'angry_ca.txt', 'asop', 'mario.txt', 'zombies.txt', 'wisteria.txt', 'outcast.dos', 'quest', 'withdraw.cyb', 'beggars.txt', 'buggy.txt', 'blue', 'bishop00.txt', 'bern', 'blackp.txt', 'buldetal.txt', 'bulhuntr.txt', 'blh.txt', 'buldream.txt', 'bulmrx.txt', 'blackrdr', 'blak', 'bulprint.txt', 'bulolli1.txt', 'bulnoopt.txt', 'bulnland.txt', 'bulolli2.txt', 'graymare.txt', 'batlslau.txt', 'blossom.pom', 'bluebrd.txt', 'bullove.txt', 'bumm', 'burn', 's&m_plot', 's&m_that', 'safe', 'arcadia.sty', 'weaver.txt', 'tuc_mees', 'sanpedr2.txt', 'mattress.txt', 'mazarin.txt', 'melissa.txt', 'tearglas.txt', 'thanksg', 'thewave', 'the-tree.txt', 'timetrav.txt', 'tin', 'tinsoldr.txt', 'toilet.s', '13chil.txt', '14.lws', '16.lws', '17.lws', '18.lws', '19.lws', '20.lws', '5orange.txt', '6ablemen.txt', '6napolen.txt', '7oldsamr.txt', '7voysinb.txt', 'musgrave.txt', 'musibrem.txt', 'jackbstl.txt', 'jaynejob.asc', 'jim.asc', '3gables.txt', '3lpigs.txt', '3student.txt', '3wishes.txt', 'radar_ra.txt', 'rainda.txt', 'reap', 'shoscomb.txt', 'shrdfarm.txt', 'shulk.txt', 'sick-kid.txt', 'silverb.txt', 'sis', 'sleprncs.txt', 'snowmaid.txt', 'snowqn1.txt', 'piracy.sto', 'panama.txt', 'paul_har.sto', 'peace.fun', 'wanderer.fun', 'hansgrtl.txt', 'hareleph.txt', 'hareporc.txt', 'haretort.txt', 'stainles.ana', 'angelfur.hum', 'bigred.hum', 'blabnove.hum', 'blabnove.txt', 'brain.damage', 'bulwer.lytton', 'crazy.hum', 'excerpt.hum', 'fantasy.hum', 'fantasy.txt', 'fred.txt', 'hitch2.txt', 'hitch3.txt', 'hotline1.txt', 'hotline3.txt', 'hotline4.txt', 'idi.hum', 'imonly17.txt', 'jerichms.hum', 'fear.hum', 'dakota.txt', 'dan', 'darkness.txt', 'deal', 'bram', 'bran', 'breaks1.asc', 'breaks2.asc', 'breaks3.asc', 'bruce-p.txt', 'lil', 'lionbird', 'lionmane.txt', 'lionmosq.txt', 'lionwar.txt', 'lmermaid.txt', 'lmtchgrl.txt', 'startrek.txt', 'deathmrs.d', 'deer.txt', 'descent.poe', 'diaryflf.txt', 'dicegame.txt', 'dicksong.txt', 'myeyes', 'long1-3.txt', 'lpeargrl.txt', 'lrrhood.txt', 'ltp', 'luf', 'lure.txt', 'fleas.txt', 'flktrp.txt', 'floc', 'floobs.txt', 'flute.txt', 'flytrunk.txt', 'paink-ws.txt', 'parotsha.txt', 'perf', 'mtinder.txt', 'monkking.txt', 'monksol.txt', 'mouslion.txt', 'mindwar', 'missing.txt', 'pussboot.txt', 'pinocch.txt', 'foxncrow.txt', 'foxnstrk.txt', 'mydream.txt', 'cabin.txt', 'cardcnt.txt', 'ccm.txt', 'domain.poe', 'dopedenn.txt', 'dskool.txt', 'dtruck.txt', 'dwar', 'redragon.txt', 'retrib.txt', 'rock', 'roger1.txt', 'running.txt', 'sunday.txt', 'superg1', 'stairdre.txt', 'stsgreek', 'igiv', 'immortal', 'inter', 'adler.txt', 'aesop11.txt', 'aesopa10.txt', 'alad10.txt', 'healer.txt', 'whgdsreg.reg', 'fable.txt', 'space.txt', 'spectacl.poe', 'spider.txt', 'sqzply.txt', 'sre-dark.txt', 'szechuan', 'solitary.txt', 'pregn.txt', 'psf.txt', 'psi', 'psyc', 'plescopm.txt', 'cybersla.txt', 'hole2nar.txt', 'holmesbk.txt', 'home.fil', 'hop-frog.poe', 'horsdonk.txt', 'horswolf.txt', 'hound-b.txt', 'fic1', 'fic2', 'fic3', 'fic4', 'fic5', 'fic7', 'fish.txt', 'frogp.txt', 'island.poe', 'foxngrap.txt', 'fran', 'fea1', 'fea2', 'fea3', 'fearmnky', 'fgoose.txt', 'freeman.fil', 'friend.s', 'friends.txt', 'frum', 'nigel.10', 'nigel.2', 'nigel.3', 'nigel.4', 'nigel.5', 'nigel.6', 'nigel.7', 'nihgel_8.9', 'non2', 'non3', 'non4', 'nigel.1', '4moons.txt', 'telefone.txt', 'hils', 'history5.txt', 'poplstrm.txt', 'pphamlin.txt', 'prince.art', 'progx', 'hell4.txt', 'helmfuse.txt', 'charlie.txt', 'chik', 'clevdonk.txt', 'clon', 'cmoutmou.txt', 'comp', 'crabhern.txt', 'cum', 'wall.art', 'blasters.fic', 'jackmac.fic', 'reality.txt', 'times.fic', 'fourth.fic', 'campfire.txt', 'aislesix.txt', 'bagelman.txt', 'berternie.txt', 'discocanbefun.txt', 'kneeslapper.txt', 'mcdonaldl.txt', 'modemhippy.txt', 'pepdegener.txt', 'socialvikings.txt', 'terrorbears.txt', 'bgb.txt', 'cooldark.txt', 'aisle.six', 'bagel.man', 'cow.exploder', 'curious.george', 'day.in.mcdonald', 'disco.be.fun', 'fowl.death', 'how.ernie.bert', 'keeping.insanit', 'kneeslapper', 'pepsi.degenerat', 'social.vikings', 'spam.key', 'textfile.primer', 'robotech', 'hellmach.txt', '3sonnets.vrs', 'glimpse1.txt', 'bookem2', 'bookem.1', 'bookem3', '100west.txt', 'assorted.txt', 'arctic.txt', 'bestwish', 'forgotte', 'quarter.c1', 'quarter.c10', 'quarter.c11', 'quarter.c12', 'quarter.c13', 'quarter.c14', 'quarter.c15', 'quarter.c16', 'quarter.c17', 'quarter.c18', 'quarter.c19', 'quarter.c2', 'quarter.c3', 'quarter.c4', 'quarter.c5', 'quarter.c6', 'quarter.c7', 'quarter.c8', 'quarter.c9', 'vgilante.txt', 'sre02.txt', 'sre03.txt', 'sretrade.txt', 'sre01.txt', 'sre_feqh.txt', 'sre_sei.txt', 'sre05.txt', 'sre07.txt', 'sre10.txt', 'sre09.txt', 'sre06.txt', 'sre_finl.txt', 'sre08.txt', 'srex.txt', 'sre04.txt', 'poem-1.txt', 'poem-2.txt', 'poem-4.txt', 'tree.txt', 'consumdr.hum', 'snow.txt', 'contrad1.hum', 'candle.hum', 'spiders.txt', 'timem.hac'])"
            ]
          },
          "metadata": {
            "tags": []
          },
          "execution_count": 10
        }
      ]
    },
    {
      "cell_type": "code",
      "metadata": {
        "id": "OvzYl30rkd4O"
      },
      "source": [
        ""
      ],
      "execution_count": null,
      "outputs": []
    }
  ]
}