{
  "nbformat": 4,
  "nbformat_minor": 0,
  "metadata": {
    "colab": {
      "name": "preprocessing.ipynb",
      "provenance": []
    },
    "kernelspec": {
      "display_name": "Python 3",
      "name": "python3"
    }
  },
  "cells": [
    {
      "cell_type": "code",
      "metadata": {
        "id": "HEGolzhYDpMY",
        "colab": {
          "base_uri": "https://localhost:8080/"
        },
        "outputId": "c1af24e3-9e1c-4573-c02c-911b7f3e0578"
      },
      "source": [
        "import pickle\r\n",
        "import os\r\n",
        "import re, string, unicodedata\r\n",
        "import nltk\r\n",
        "!pip install contractions\r\n",
        "!pip install inflect\r\n",
        "import contractions\r\n",
        "import inflect\r\n",
        "from bs4 import BeautifulSoup\r\n",
        "from nltk import word_tokenize, sent_tokenize\r\n",
        "from nltk.corpus import stopwords,wordnet\r\n",
        "from nltk.stem import WordNetLemmatizer\r\n",
        "nltk.download('averaged_perceptron_tagger')\r\n",
        "nltk.download('punkt')\r\n",
        "nltk.download('wordnet')\r\n",
        "nltk.download('stopwords')"
      ],
      "execution_count": 1,
      "outputs": [
        {
          "output_type": "stream",
          "text": [
            "Collecting contractions\n",
            "  Downloading https://files.pythonhosted.org/packages/0a/04/d5e0bb9f2cef5d15616ebf68087a725c5dbdd71bd422bcfb35d709f98ce7/contractions-0.0.48-py2.py3-none-any.whl\n",
            "Collecting textsearch>=0.0.21\n",
            "  Downloading https://files.pythonhosted.org/packages/d3/fe/021d7d76961b5ceb9f8d022c4138461d83beff36c3938dc424586085e559/textsearch-0.0.21-py2.py3-none-any.whl\n",
            "Collecting pyahocorasick\n",
            "\u001b[?25l  Downloading https://files.pythonhosted.org/packages/4a/92/b3c70b8cf2b76f7e3e8b7243d6f06f7cb3bab6ada237b1bce57604c5c519/pyahocorasick-1.4.1.tar.gz (321kB)\n",
            "\u001b[K     |████████████████████████████████| 327kB 7.7MB/s \n",
            "\u001b[?25hCollecting anyascii\n",
            "\u001b[?25l  Downloading https://files.pythonhosted.org/packages/09/c7/61370d9e3c349478e89a5554c1e5d9658e1e3116cc4f2528f568909ebdf1/anyascii-0.1.7-py3-none-any.whl (260kB)\n",
            "\u001b[K     |████████████████████████████████| 266kB 14.9MB/s \n",
            "\u001b[?25hBuilding wheels for collected packages: pyahocorasick\n",
            "  Building wheel for pyahocorasick (setup.py) ... \u001b[?25l\u001b[?25hdone\n",
            "  Created wheel for pyahocorasick: filename=pyahocorasick-1.4.1-cp37-cp37m-linux_x86_64.whl size=85256 sha256=23af447087439c1a7e127ea5dc480da0b9d10aa42c764ad2428c18e427b6592b\n",
            "  Stored in directory: /root/.cache/pip/wheels/e4/ab/f7/cb39270df8f6126f3dd4c33d302357167086db460968cfc80c\n",
            "Successfully built pyahocorasick\n",
            "Installing collected packages: pyahocorasick, anyascii, textsearch, contractions\n",
            "Successfully installed anyascii-0.1.7 contractions-0.0.48 pyahocorasick-1.4.1 textsearch-0.0.21\n",
            "Requirement already satisfied: inflect in /usr/local/lib/python3.7/dist-packages (2.1.0)\n",
            "[nltk_data] Downloading package averaged_perceptron_tagger to\n",
            "[nltk_data]     /root/nltk_data...\n",
            "[nltk_data]   Unzipping taggers/averaged_perceptron_tagger.zip.\n",
            "[nltk_data] Downloading package punkt to /root/nltk_data...\n",
            "[nltk_data]   Unzipping tokenizers/punkt.zip.\n",
            "[nltk_data] Downloading package wordnet to /root/nltk_data...\n",
            "[nltk_data]   Unzipping corpora/wordnet.zip.\n",
            "[nltk_data] Downloading package stopwords to /root/nltk_data...\n",
            "[nltk_data]   Unzipping corpora/stopwords.zip.\n"
          ],
          "name": "stdout"
        },
        {
          "output_type": "execute_result",
          "data": {
            "text/plain": [
              "True"
            ]
          },
          "metadata": {
            "tags": []
          },
          "execution_count": 1
        }
      ]
    },
    {
      "cell_type": "code",
      "metadata": {
        "id": "ecgzA6gwExdE"
      },
      "source": [
        "def DoctoDict():\r\n",
        "  file_Names = os.listdir(\"/content/drive/MyDrive/IR_ASSIGNMENT_1/stories1\")\r\n",
        "  file_Paths = []\r\n",
        "  for i in range(len(file_Names)):\r\n",
        "    file_Paths.append(\"/content/drive/MyDrive/IR_ASSIGNMENT_1/stories1/\"+file_Names[i])\r\n",
        "  corpus = {}\r\n",
        "  for i in range(len(file_Paths)):\r\n",
        "    with open(file_Paths[i],encoding = \"latin-1\") as f_input:\r\n",
        "      corpus[file_Names[i]] = [f_input.read()]\r\n",
        "  return corpus"
      ],
      "execution_count": 2,
      "outputs": []
    },
    {
      "cell_type": "code",
      "metadata": {
        "id": "DVYdVrsbI7JJ"
      },
      "source": [
        "CORPUS = DoctoDict()\r\n",
        "with open('CORPUS.pickle', 'wb') as handle:\r\n",
        "  pickle.dump(CORPUS, handle, protocol=pickle.HIGHEST_PROTOCOL)"
      ],
      "execution_count": 3,
      "outputs": []
    },
    {
      "cell_type": "code",
      "metadata": {
        "colab": {
          "base_uri": "https://localhost:8080/"
        },
        "id": "ICteejq_wa7a",
        "outputId": "8b08e329-017c-4792-8d62-74e8eab1175e"
      },
      "source": [
        "with open('/content/CORPUS.pickle', 'rb') as handle:\r\n",
        "  corpus = pickle.load(handle)\r\n",
        "\r\n",
        "len(corpus.keys())"
      ],
      "execution_count": 4,
      "outputs": [
        {
          "output_type": "execute_result",
          "data": {
            "text/plain": [
              "467"
            ]
          },
          "metadata": {
            "tags": []
          },
          "execution_count": 4
        }
      ]
    },
    {
      "cell_type": "code",
      "metadata": {
        "id": "eM6mJ8drTPNA"
      },
      "source": [
        "def strip_html(text):\r\n",
        "    soup = BeautifulSoup(text, \"html.parser\")\r\n",
        "    return soup.get_text()\r\n",
        "\r\n",
        "def remove_between_square_brackets(text):\r\n",
        "    text=re.sub('\\n',' ',text)\r\n",
        "    return re.sub('\\[[^]]*\\]', '', text)\r\n",
        "\r\n",
        "def denoise_text(text):\r\n",
        "    text = strip_html(text)\r\n",
        "    text = remove_between_square_brackets(text)\r\n",
        "    return text\r\n",
        "\r\n",
        "def replace_contractions(text):\r\n",
        "    return contractions.fix(text)\r\n",
        "\r\n",
        "def remove_non_ascii(words):\r\n",
        "    \"\"\"Remove non-ASCII characters from list of tokenized words\"\"\"\r\n",
        "    new_words = []\r\n",
        "    for word in words:\r\n",
        "        new_word = unicodedata.normalize('NFKD', word).encode('ascii', 'ignore').decode('utf-8', 'ignore')\r\n",
        "        new_words.append(new_word)\r\n",
        "    return new_words\r\n",
        "\r\n",
        "def to_lowercase(words):\r\n",
        "    \"\"\"Convert all characters to lowercase from list of tokenized words\"\"\"\r\n",
        "    new_words = []\r\n",
        "    for word in words:\r\n",
        "        new_word = word.lower()\r\n",
        "        new_words.append(new_word)\r\n",
        "    return new_words\r\n",
        "\r\n",
        "def remove_punctuation(words):\r\n",
        "    \"\"\"Remove punctuation from list of tokenized words\"\"\"\r\n",
        "    new_words = []\r\n",
        "    for word in words:\r\n",
        "        new_word = re.sub(r'[^\\w\\s]', '', word)\r\n",
        "        if new_word != '':\r\n",
        "            new_words.append(new_word)\r\n",
        "    return new_words\r\n",
        "\r\n",
        "def remove_stopwords(words):\r\n",
        "    \"\"\"Remove stop words from list of tokenized words\"\"\"\r\n",
        "    new_words = []\r\n",
        "    for word in words:\r\n",
        "        if word not in stopwords.words('english'):\r\n",
        "            new_words.append(word)\r\n",
        "    return new_words\r\n",
        "\r\n",
        "def get_wordnet_pos(tag):\r\n",
        "    tag_dict = {\"J\": wordnet.ADJ,\"N\": wordnet.NOUN,\"V\": wordnet.VERB,\"R\": wordnet.ADV}\r\n",
        "    return tag_dict.get(tag,wordnet.NOUN)\r\n",
        "\r\n",
        "def lemmatize(words):\r\n",
        "    \"\"\"Lemmatize words in list of tokenized words\"\"\"\r\n",
        "    lemmatizer = WordNetLemmatizer()\r\n",
        "    lemmas = []\r\n",
        "    posTagged = nltk.pos_tag(words)\r\n",
        "    wordnetTagged = list(map(lambda x: (x[0], get_wordnet_pos(x[1][0])), posTagged))\r\n",
        "    for word,tag in wordnetTagged:\r\n",
        "      lemma = lemmatizer.lemmatize(word,tag)\r\n",
        "      lemmas.append(lemma)\r\n",
        "    return lemmas\r\n",
        "\r\n",
        "def preProcess_html(fileName):\r\n",
        "    sample = denoise_text(fileName)\r\n",
        "    sample = replace_contractions(sample)\r\n",
        "    words = nltk.word_tokenize(sample)\r\n",
        "    words = remove_non_ascii(words)\r\n",
        "    words = to_lowercase(words)\r\n",
        "    words = remove_punctuation(words)\r\n",
        "    words = remove_stopwords(words)\r\n",
        "    words = lemmatize(words)\r\n",
        "    return words  \r\n",
        "\r\n",
        "def clean_text(text):\r\n",
        "    # text=re.sub('\\w*\\d\\w*','', text)\r\n",
        "    text=re.sub('\\n',' ',text)\r\n",
        "    text=re.sub(r\"http\\S+\", \"\", text)\r\n",
        "    text=re.sub('[^a-z0-9A-Z]',' ',text)\r\n",
        "    text=re.sub(' +',' ',text)\r\n",
        "    return text\r\n",
        "\r\n",
        "def preProcessotherfiles(fileName):\r\n",
        "    sample = clean_text(fileName)\r\n",
        "    sample = replace_contractions(sample)\r\n",
        "    words = nltk.word_tokenize(sample)\r\n",
        "    words = remove_non_ascii(words)\r\n",
        "    words = to_lowercase(words)\r\n",
        "    words = remove_punctuation(words)\r\n",
        "    words = remove_stopwords(words)\r\n",
        "    words = lemmatize(words)\r\n",
        "    return words \r\n"
      ],
      "execution_count": 5,
      "outputs": []
    },
    {
      "cell_type": "code",
      "metadata": {
        "id": "eFsKQI7MlBg7"
      },
      "source": [
        "for i in corpus.keys():\r\n",
        "  if i.endswith(\".html\") or i.endswith(\".header\"):\r\n",
        "    corpus[i][0] = preProcess_html(corpus[i][0])\r\n",
        "  else:\r\n",
        "    corpus[i][0] = preProcessotherfiles(corpus[i][0])"
      ],
      "execution_count": 6,
      "outputs": []
    },
    {
      "cell_type": "code",
      "metadata": {
        "colab": {
          "base_uri": "https://localhost:8080/"
        },
        "id": "8MS58BBPjf-d",
        "outputId": "1a6cc554-27cf-4876-8f36-fb63ea14929a"
      },
      "source": [
        "len(corpus.keys())"
      ],
      "execution_count": 7,
      "outputs": [
        {
          "output_type": "execute_result",
          "data": {
            "text/plain": [
              "467"
            ]
          },
          "metadata": {
            "tags": []
          },
          "execution_count": 7
        }
      ]
    },
    {
      "cell_type": "code",
      "metadata": {
        "id": "ySq0jJn8oexi"
      },
      "source": [
        "with open('DocTerms.pickle', 'wb') as handle:\r\n",
        "  pickle.dump(corpus, handle, protocol=pickle.HIGHEST_PROTOCOL)\r\n",
        "\r\n",
        "# with open('/content/DocTerms.pickle', 'rb') as handle:\r\n",
        "  #  docT = pickle.load(handle)"
      ],
      "execution_count": 8,
      "outputs": []
    },
    {
      "cell_type": "code",
      "metadata": {
        "colab": {
          "base_uri": "https://localhost:8080/"
        },
        "id": "vzB7BtfVKu49",
        "outputId": "473a1b25-9c3c-47f5-8ceb-16a284f66651"
      },
      "source": [
        "docT.keys()"
      ],
      "execution_count": 17,
      "outputs": [
        {
          "output_type": "execute_result",
          "data": {
            "text/plain": [
              "dict_keys(['abyss.txt', '6ablemen.txt', '5orange.txt', '4moons.txt', '3wishes.txt', '3student.txt', '3lpigs.txt', '3gables.txt', '20.lws', '3sonnets.vrs', '19.lws', '14.lws', '17.lws', '18.lws', '16.lws', '100west.txt', '13chil.txt', 'bookem2', 'blackrdr', 'blossom.pom', 'blak', 'blh.txt', 'blasters.fic', 'blind.txt', 'blue', 'bookem.1', 'blabnove.txt', 'bluebrd.txt', 'blackp.txt', 'berternie.txt', 'bgb.txt', 'bgcspoof.txt', 'blabnove.hum', 'bishop00.txt', 'bestwish', 'beyond.hum', 'bern', 'beggars.txt', 'beast.asc', 'beautbst.txt', 'bigred.hum', 'assorted.txt', 'arctic.txt', 'batlslau.txt', 'bagelman.txt', 'angry_ca.txt', 'antcrick.txt', 'aquith.txt', 'archive', 'asop', 'arcadia.sty', 'aesop11.txt', 'alissadl.txt', 'aesopa10.txt', 'bagel.man', 'adv_alad.txt', 'alad10.txt', 'aircon.txt', 'aislesix.txt', 'aminegg.txt', 'angelfur.hum', 'aluminum.hum', 'abbey.txt', '7voysinb.txt', 'ab40thv.txt', '7oldsamr.txt', '6napolen.txt', 'aisle.six', 'altside.hum', 'advtthum.txt', 'advsayed.txt', 'adler.txt', 'cooldark.txt', 'corcor.hum', 'cmoutmou.txt', 'confilct.fun', 'comp', 'consumdr.hum', 'clevdonk.txt', 'charlie.txt', 'cooldark.sto', 'chik', 'clon', 'ccm.txt', 'contrad1.hum', 'cardcnt.txt', 'cabin.txt', 'burltrs', 'burn', 'burintrv.92', 'burintrv.78', 'cameloto.hum', 'candle.hum', 'bureau.txt', 'campfire.txt', 'bulphrek.txt', 'bulolli2.txt', 'bulnoopt.txt', 'bulolli1.txt', 'burintrv.66', 'bulzork1.txt', 'bumm', 'bulnland.txt', 'bullove.txt', 'bulironb.txt', 'bulmrx.txt', 'bulwer.lytton', 'bulprint.txt', 'breaks3.asc', 'breaks1.asc', 'breaks2.asc', 'buggy.txt', 'bulhuntr.txt', 'bulfelis.txt', 'buldream.txt', 'bruce-p.txt', 'bran', 'brain.damage', 'bram', 'buldetal.txt', 'bookem3', 'fleas.txt', 'fgoose.txt', 'fic7', 'fic5', 'fic4', 'fish.txt', 'fic3', 'fic1', 'fic2', 'fearmnky', 'fable.txt', 'fantasy.txt', 'fear.hum', 'fea3', 'fantasy.hum', 'fantas.hum', 'excerpt.txt', 'fea2', 'ezoff', 'eyeargon.hum', 'excerpt.hum', 'empnclot.txt', 'empsjowk.txt', 'empty.txt', 'emperor3.txt', 'enya_trn.txt', 'fea1', 'enginer.txt', 'enc', 'enchdup.hum', 'elveshoe.txt', 'encamp01.txt', 'elite.app', 'dwar', 'dtruck.txt', 'dskool.txt', 'dicksong.txt', 'dicegame.txt', 'diaryflf.txt', 'discocanbefun.txt', 'disco.be.fun', 'dopedenn.txt', 'deer.txt', 'descent.poe', 'deathmrs.d', 'domain.poe', 'deal', 'dakota.txt', 'cybersla.txt', 'day.in.mcdonald', 'darkness.txt', 'dan', 'curious.george', 'crabhern.txt', 'cum', 'cow.exploder', 'crazy.hum', 'hotline3.txt', 'hole2nar.txt', 'hitch2.txt', 'history5.txt', 'healer.txt', 'hellmach.txt', 'hareleph.txt', 'hareporc.txt', 'hell4.txt', 'haretort.txt', 'hansgrtl.txt', 'gulliver.txt', 'hils', 'goldfish.txt', 'goldgoos.txt', 'goldenp.txt', 'gold3ber.txt', 'gloves.txt', 'helmfuse.txt', 'greedog.txt', 'greatlrn.leg', 'graymare.txt', 'goldbug.poe', 'glimpse1.txt', 'girlclub.txt', 'grav', 'friends.txt', 'gatherng.txt', 'girl', 'ghost', 'game.txt', 'frogp.txt', 'gay', 'friend.s', 'freeman.fil', 'frum', 'gemdra.txt', 'fred.txt', 'foxngrap.txt', 'foxncrow.txt', 'flute.txt', 'floobs.txt', 'flytrunk.txt', 'fran', 'fowl.death', 'fourth.fic', 'foxnstrk.txt', 'forgotte', 'flktrp.txt', 'floc', 'melissa.txt', 'mcdonaldl.txt', 'mattress.txt', 'ltp', 'luf', 'mario.txt', 'lure.txt', 'lrrhood.txt', 'lpeargrl.txt', 'long1-3.txt', 'lionmosq.txt', 'lionmane.txt', 'lament.txt', 'lgoldbrd.txt', 'life.txt', 'mazarin.txt', 'lmtchgrl.txt', 'lmermaid.txt', 'ladylust.hum', 'lionbird', 'lionwar.txt', 'lil', 'kzap.txt', 'kneeslapper.txt', 'kharian.txt', 'korea.s', 'jim.asc', 'keepmodu.txt', 'jaynejob.asc', 'knuckle.txt', 'kneeslapper', 'jackbstl.txt', 'keeping.insanit', 'jerichms.hum', 'jackmac.fic', 'imonly17.txt', 'igiv', 'immortal', 'immorti.hum', 'idi.hum', 'imagin.hum', 'inter', 'horsdonk.txt', 'hotline1.txt', 'holmesbk.txt', 'hitch3.txt', 'horswolf.txt', 'how.ernie.bert', 'hound-b.txt', 'island.poe', 'hotline4.txt', 'home.fil', 'hop-frog.poe', 'pphamlin.txt', 'quarter.c1', 'poplstrm.txt', 'plescopm.txt', 'poem-1.txt', 'piracy.sto', 'poem-4.txt', 'pinocch.txt', 'pepdegener.txt', 'pepsi.degenerat', 'perf', 'peace.fun', 'poem-2.txt', 'panama.txt', 'paink-ws.txt', 'oxfrog.txt', 'paul_har.sto', 'partya.txt', 'omarsheh.txt', 'obstgoat.txt', 'parotsha.txt', 'non4', 'non3', 'outcast.dos', 'non2', 'nitepeek.sto', 'nigel.6', 'nihgel_8.9', 'narciss.txt', 'nigel.5', 'nigel.3', 'nigel.4', 'nigel.1', 'nigel.10', 'nigel.2', 'mouslion.txt', 'mtinder.txt', 'monksol.txt', 'monkking.txt', 'modemhippy.txt', 'nigel.7', 'mydream.txt', 'myeyes', 'musibrem.txt', 'mindprob.txt', 'missing.txt', 'musgrave.txt', 'mindwar', 'mike.txt', 'social.vikings', 'snowqn1.txt', 'snow.txt', 'sis', 'silverb.txt', 'sleprncs.txt', 'sight.txt', 'snowmaid.txt', 'sick-kid.txt', 'shrdfarm.txt', 'shulk.txt', 'shoscomb.txt', 'running.txt', 'roger1.txt', 'sanpedr2.txt', 'retrib.txt', 'rid.txt', 'rocket.sf', 's&m_plot', 'safe', 'rock', 'robotech', 'redragon.txt', 's&m_that', 'radar_ra.txt', 'rainda.txt', 'reap', 'quot', 'reality.txt', 'quickfix', 'quarter.c8', 'quest', 'quarter.c9', 'quarter.c7', 'quarter.c6', 'quarter.c5', 'quarter.c17', 'quarter.c2', 'quarter.c16', 'quarter.c13', 'quarter.c14', 'quarter.c18', 'quarter.c19', 'quarter.c4', 'quarter.c15', 'quarter.c3', 'quarter.c12', 'pussboot.txt', 'quarter.c11', 'pregn.txt', 'psf.txt', 'psyc', 'qcarroll', 'quarter.c10', 'psi', 'prince.art', 'progx', 'uglyduck.txt', 'times.fic', 'terrorbears.txt', 'telefone.txt', 'tearglas.txt', 'timem.hac', 'thanksg', 'textfile.primer', 'testpilo.hum', 'tctac.txt', 'tcoa.txt', 'thewave', 'the-tree.txt', 'taxnovel.txt', 'stairdre.txt', 'sucker.txt', 'startrek.txt', 'sunday.txt', 'tao3.dos', 'szechuan', 'superg1', 'sre10.txt', 'sre09.txt', 'sretrade.txt', 'sre08.txt', 'sre07.txt', 'tailbear.txt', 'stainles.ana', 'stsgreek', 'sre_sei.txt', 'sre_finl.txt', 'sre_feqh.txt', 'sre06.txt', 'sre05.txt', 'sre04.txt', 'srex.txt', 'sqzply.txt', 'sre-dark.txt', 'spiders.txt', 'spider.txt', 'sre03.txt', 'sre02.txt', 'solitary.txt', 'space.txt', 'spectacl.poe', 'sre01.txt', 'spam.key', 'socialvikings.txt', 'wolf7kid.txt', 'wolflamb.txt', 'wlgirl.txt', 'wolfcran.txt', 'yukon.txt', 'wrt', 'zombies.txt', 'wombat.und', 'write', 'wisteria.txt', 'withdraw.cyb', 'weaver.txt', 'vgilante.txt', 'veiledl.txt', 'vampword.txt', 'wanderer.fun', 'wall.art', 'weeprncs.txt', 'whgdsreg.reg', 'valen', 'vday.hum', 'vainsong.txt', 'tinsoldr.txt', 'traitor.txt', 'tree.txt', 'timetrav.txt', 'vaincrow.txt', 't_zone.jok', 'unluckwr.txt', 'tin', 'tuc_mees', 'toilet.s'])"
            ]
          },
          "metadata": {
            "tags": []
          },
          "execution_count": 17
        }
      ]
    },
    {
      "cell_type": "code",
      "metadata": {
        "id": "KZaOw1Y4Kpaw"
      },
      "source": [
        ""
      ],
      "execution_count": null,
      "outputs": []
    }
  ]
}