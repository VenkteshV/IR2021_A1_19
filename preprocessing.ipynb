{
 "cells": [
  {
   "cell_type": "code",
   "execution_count": 1,
   "metadata": {
    "colab": {
     "base_uri": "https://localhost:8080/"
    },
    "id": "HEGolzhYDpMY",
    "outputId": "2f21e6e8-0109-40e3-c8a6-580a7937b1b1"
   },
   "outputs": [
    {
     "name": "stdout",
     "output_type": "stream",
     "text": [
      "Collecting contractions\n",
      "  Downloading https://files.pythonhosted.org/packages/0a/04/d5e0bb9f2cef5d15616ebf68087a725c5dbdd71bd422bcfb35d709f98ce7/contractions-0.0.48-py2.py3-none-any.whl\n",
      "Collecting textsearch>=0.0.21\n",
      "  Downloading https://files.pythonhosted.org/packages/d3/fe/021d7d76961b5ceb9f8d022c4138461d83beff36c3938dc424586085e559/textsearch-0.0.21-py2.py3-none-any.whl\n",
      "Collecting pyahocorasick\n",
      "\u001b[?25l  Downloading https://files.pythonhosted.org/packages/4a/92/b3c70b8cf2b76f7e3e8b7243d6f06f7cb3bab6ada237b1bce57604c5c519/pyahocorasick-1.4.1.tar.gz (321kB)\n",
      "\u001b[K     |████████████████████████████████| 327kB 7.6MB/s \n",
      "\u001b[?25hCollecting anyascii\n",
      "\u001b[?25l  Downloading https://files.pythonhosted.org/packages/09/c7/61370d9e3c349478e89a5554c1e5d9658e1e3116cc4f2528f568909ebdf1/anyascii-0.1.7-py3-none-any.whl (260kB)\n",
      "\u001b[K     |████████████████████████████████| 266kB 13.3MB/s \n",
      "\u001b[?25hBuilding wheels for collected packages: pyahocorasick\n",
      "  Building wheel for pyahocorasick (setup.py) ... \u001b[?25l\u001b[?25hdone\n",
      "  Created wheel for pyahocorasick: filename=pyahocorasick-1.4.1-cp37-cp37m-linux_x86_64.whl size=85251 sha256=5650aa1b35f9ad5af3f56d242c3a45744ab5ed43eb0fb0ef942156b3dc71caf4\n",
      "  Stored in directory: /root/.cache/pip/wheels/e4/ab/f7/cb39270df8f6126f3dd4c33d302357167086db460968cfc80c\n",
      "Successfully built pyahocorasick\n",
      "Installing collected packages: pyahocorasick, anyascii, textsearch, contractions\n",
      "Successfully installed anyascii-0.1.7 contractions-0.0.48 pyahocorasick-1.4.1 textsearch-0.0.21\n",
      "Requirement already satisfied: inflect in /usr/local/lib/python3.7/dist-packages (2.1.0)\n",
      "[nltk_data] Downloading package averaged_perceptron_tagger to\n",
      "[nltk_data]     /root/nltk_data...\n",
      "[nltk_data]   Unzipping taggers/averaged_perceptron_tagger.zip.\n",
      "[nltk_data] Downloading package punkt to /root/nltk_data...\n",
      "[nltk_data]   Unzipping tokenizers/punkt.zip.\n",
      "[nltk_data] Downloading package wordnet to /root/nltk_data...\n",
      "[nltk_data]   Unzipping corpora/wordnet.zip.\n",
      "[nltk_data] Downloading package stopwords to /root/nltk_data...\n",
      "[nltk_data]   Unzipping corpora/stopwords.zip.\n"
     ]
    },
    {
     "data": {
      "text/plain": [
       "True"
      ]
     },
     "execution_count": 1,
     "metadata": {
      "tags": []
     },
     "output_type": "execute_result"
    }
   ],
   "source": [
    "import pickle\n",
    "import spacy\n",
    "import os\n",
    "import re, string, unicodedata\n",
    "import nltk\n",
    "!pip install contractions\n",
    "!pip install inflect\n",
    "import contractions\n",
    "import inflect\n",
    "from bs4 import BeautifulSoup\n",
    "from nltk import word_tokenize, sent_tokenize\n",
    "from nltk.corpus import stopwords,wordnet\n",
    "from nltk.stem import WordNetLemmatizer\n",
    "nltk.download('averaged_perceptron_tagger')\n",
    "nltk.download('punkt')\n",
    "nltk.download('wordnet')\n",
    "nltk.download('stopwords')"
   ]
  },
  {
   "cell_type": "code",
   "execution_count": 2,
   "metadata": {
    "id": "ecgzA6gwExdE"
   },
   "outputs": [],
   "source": [
    "def DoctoDict():\n",
    "  file_Names = os.listdir(\"/content/drive/MyDrive/IR_ASSIGNMENT_1/stories1\")\n",
    "  file_Paths = []\n",
    "  for i in range(len(file_Names)):\n",
    "    file_Paths.append(\"/content/drive/MyDrive/IR_ASSIGNMENT_1/stories1/\"+file_Names[i])\n",
    "  corpus = {}\n",
    "  for i in range(len(file_Paths)):\n",
    "    with open(file_Paths[i],encoding = \"latin-1\") as f_input:\n",
    "      corpus[file_Names[i]] = [f_input.read()]\n",
    "  return corpus"
   ]
  },
  {
   "cell_type": "code",
   "execution_count": 3,
   "metadata": {
    "id": "DVYdVrsbI7JJ"
   },
   "outputs": [],
   "source": [
    "CORPUS = DoctoDict()\n",
    "with open('CORPUS.pickle', 'wb') as handle:\n",
    "  pickle.dump(CORPUS, handle, protocol=pickle.HIGHEST_PROTOCOL)"
   ]
  },
  {
   "cell_type": "code",
   "execution_count": 4,
   "metadata": {
    "colab": {
     "base_uri": "https://localhost:8080/"
    },
    "id": "ICteejq_wa7a",
    "outputId": "5023f83f-8733-4d03-e26d-988c86e2233a"
   },
   "outputs": [
    {
     "data": {
      "text/plain": [
       "467"
      ]
     },
     "execution_count": 4,
     "metadata": {
      "tags": []
     },
     "output_type": "execute_result"
    }
   ],
   "source": [
    "with open('/content/CORPUS.pickle', 'rb') as handle:\n",
    "  corpus = pickle.load(handle)\n",
    "\n",
    "len(corpus.keys())"
   ]
  },
  {
   "cell_type": "code",
   "execution_count": 5,
   "metadata": {
    "id": "eM6mJ8drTPNA"
   },
   "outputs": [],
   "source": [
    "def strip_html(text):\n",
    "    soup = BeautifulSoup(text, \"html.parser\")\n",
    "    return soup.get_text()\n",
    "\n",
    "def remove_between_square_brackets(text):\n",
    "    text=re.sub('\\n',' ',text)\n",
    "    return re.sub('\\[[^]]*\\]', '', text)\n",
    "\n",
    "def denoise_text(text):\n",
    "    text = strip_html(text)\n",
    "    text = remove_between_square_brackets(text)\n",
    "    return text\n",
    "\n",
    "def replace_contractions(text):\n",
    "    return contractions.fix(text)\n",
    "\n",
    "def remove_non_ascii(words):\n",
    "    \"\"\"Remove non-ASCII characters from list of tokenized words\"\"\"\n",
    "    new_words = []\n",
    "    for word in words:\n",
    "        new_word = unicodedata.normalize('NFKD', word).encode('ascii', 'ignore').decode('utf-8', 'ignore')\n",
    "        new_words.append(new_word)\n",
    "    return new_words\n",
    "\n",
    "def to_lowercase(words):\n",
    "    \"\"\"Convert all characters to lowercase from list of tokenized words\"\"\"\n",
    "    new_words = []\n",
    "    for word in words:\n",
    "        new_word = word.lower()\n",
    "        new_words.append(new_word)\n",
    "    return new_words\n",
    "\n",
    "def remove_punctuation(words):\n",
    "    \"\"\"Remove punctuation from list of tokenized words\"\"\"\n",
    "    new_words = []\n",
    "    for word in words:\n",
    "        new_word = re.sub(r'[^\\w\\s]', '', word)\n",
    "        if new_word != '':\n",
    "            new_words.append(new_word)\n",
    "    return new_words\n",
    "\n",
    "def remove_stopwords(words):\n",
    "    \"\"\"Remove stop words from list of tokenized words\"\"\"\n",
    "    new_words = []\n",
    "    for word in words:\n",
    "        if word not in stopwords.words('english'):\n",
    "            new_words.append(word)\n",
    "    return new_words\n",
    "\n",
    "def get_wordnet_pos(tag):\n",
    "    tag_dict = {\"J\": wordnet.ADJ,\"N\": wordnet.NOUN,\"V\": wordnet.VERB,\"R\": wordnet.ADV}\n",
    "    return tag_dict.get(tag,wordnet.NOUN)\n",
    "\n",
    "def lemmatize(words):\n",
    "    \"\"\"Lemmatize words in list of tokenized words\"\"\"\n",
    "    lemmatizer = WordNetLemmatizer()\n",
    "    lemmas = []\n",
    "    posTagged = nltk.pos_tag(words)\n",
    "    wordnetTagged = list(map(lambda x: (x[0], get_wordnet_pos(x[1][0])), posTagged))\n",
    "    for word,tag in wordnetTagged:\n",
    "      lemma = lemmatizer.lemmatize(word,tag)\n",
    "      lemmas.append(lemma)\n",
    "    return lemmas\n",
    "\n",
    "def lemmatizeSpacy(words):\n",
    "  sent = \"\"\n",
    "  lwords = []\n",
    "  for word in words:\n",
    "    sent += word + \" \" \n",
    "  model = spacy.load(\"en_core_web_sm\")\n",
    "  tokens = model(sent)\n",
    "  for token in tokens:\n",
    "    lwords.append(token.lemma_)\n",
    "  return lwords\n",
    "\n",
    "def preProcess_html(fileName):\n",
    "    sample = denoise_text(fileName)\n",
    "    sample = replace_contractions(sample)\n",
    "    words = nltk.word_tokenize(sample)\n",
    "    words = remove_non_ascii(words)\n",
    "    words = to_lowercase(words)\n",
    "    words = remove_punctuation(words)\n",
    "    words = remove_stopwords(words)\n",
    "    # words = lemmatize(words)\n",
    "    # words = lemmatizeSpacy(words)\n",
    "    return words  \n",
    "\n",
    "def clean_text(text):\n",
    "    # text=re.sub('\\w*\\d\\w*','', text)\n",
    "    text=re.sub('\\n',' ',text)\n",
    "    text=re.sub(r\"http\\S+\", \"\", text)\n",
    "    text=re.sub('[^a-z0-9A-Z]',' ',text)\n",
    "    text=re.sub(' +',' ',text)\n",
    "    return text\n",
    "\n",
    "def preProcessotherfiles(fileName):\n",
    "    sample = clean_text(fileName)\n",
    "    sample = replace_contractions(sample)\n",
    "    words = nltk.word_tokenize(sample)\n",
    "    words = remove_non_ascii(words)\n",
    "    words = to_lowercase(words)\n",
    "    words = remove_punctuation(words)\n",
    "    words = remove_stopwords(words)\n",
    "    # words = lemmatize(words)\n",
    "    words = lemmatizeSpacy(words)\n",
    "    return words \n"
   ]
  },
  {
   "cell_type": "code",
   "execution_count": 6,
   "metadata": {
    "id": "eFsKQI7MlBg7"
   },
   "outputs": [],
   "source": [
    "for i in corpus.keys():\n",
    "  if i.endswith(\".html\") or i.endswith(\".header\"):\n",
    "    corpus[i][0] = preProcess_html(corpus[i][0])\n",
    "  else:\n",
    "    corpus[i][0] = preProcessotherfiles(corpus[i][0])"
   ]
  },
  {
   "cell_type": "code",
   "execution_count": 7,
   "metadata": {
    "colab": {
     "base_uri": "https://localhost:8080/"
    },
    "id": "8MS58BBPjf-d",
    "outputId": "28db4a54-21a5-44d3-c566-f979d507a03c"
   },
   "outputs": [
    {
     "data": {
      "text/plain": [
       "467"
      ]
     },
     "execution_count": 7,
     "metadata": {
      "tags": []
     },
     "output_type": "execute_result"
    }
   ],
   "source": [
    "len(corpus.keys())"
   ]
  },
  {
   "cell_type": "code",
   "execution_count": 9,
   "metadata": {
    "id": "ySq0jJn8oexi"
   },
   "outputs": [],
   "source": [
    "# with open('DocTerms_NoLemm.pickle', 'wb') as handle:\n",
    "  # pickle.dump(corpus, handle, protocol=pickle.HIGHEST_PROTOCOL)\n",
    "\n",
    "with open('/content/DocTerms_Spacy.pickle', 'rb') as handle:\n",
    "   docT = pickle.load(handle)"
   ]
  },
  {
   "cell_type": "code",
   "execution_count": 10,
   "metadata": {
    "colab": {
     "base_uri": "https://localhost:8080/"
    },
    "id": "vzB7BtfVKu49",
    "outputId": "f046b342-1d5d-4ec6-eb26-13ac28de0532"
   },
   "outputs": [
    {
     "data": {
      "text/plain": [
       "dict_keys(['aluminum.hum', 'life.txt', 'sight.txt', 'cameloto.hum', 'beyond.hum', 'partya.txt', 'nitepeek.sto', 'blind.txt', 'altside.hum', 'abyss.txt', 't_zone.jok', 'fantas.hum', 'advsayed.txt', 'eyeargon.hum', 'elite.app', 'rocket.sf', 'corcor.hum', 'elveshoe.txt', 'ab40thv.txt', 'gold3ber.txt', 'game.txt', 'excerpt.txt', 'knuckle.txt', 'emperor3.txt', 'empnclot.txt', 'abbey.txt', 'advtthum.txt', 'archive', 'wolfcran.txt', 'immorti.hum', 'wlgirl.txt', 'cooldark.sto', 'wolf7kid.txt', 'vday.hum', 'imagin.hum', 'adv_alad.txt', 'wombat.und', 'gemdra.txt', 'aircon.txt', 'wolflamb.txt', 'testpilo.hum', 'valen', 'confilct.fun', 'narciss.txt', 'enchdup.hum', 'ladylust.hum', 'tcoa.txt', 'enginer.txt', 'encamp01.txt', 'korea.s', 'taxnovel.txt', 'greedog.txt', 'keepmodu.txt', 'vainsong.txt', 'goldgoos.txt', 'quickfix', 'goldbug.poe', 'omarsheh.txt', 'grav', 'empty.txt', 'oxfrog.txt', 'gulliver.txt', 'obstgoat.txt', 'gay', 'ghost', 'goldfish.txt', 'tao3.dos', 'empsjowk.txt', 'enya_trn.txt', 'quot', 'kharian.txt', 'ezoff', 'girlclub.txt', 'tctac.txt', 'gatherng.txt', 'tailbear.txt', 'traitor.txt', 'gloves.txt', 'vampword.txt', 'girl', 'vaincrow.txt', 'enc', 'qcarroll', 'goldenp.txt', 'greatlrn.leg', 'yukon.txt', 'veiledl.txt', 'write', 'unluckwr.txt', 'wrt', 'uglyduck.txt', 'weeprncs.txt', 'lgoldbrd.txt', 'aminegg.txt', 'alissadl.txt', 'antcrick.txt', 'aquith.txt', 'beast.asc', 'bulzork1.txt', 'bulironb.txt', 'bureau.txt', 'beautbst.txt', 'bulphrek.txt', 'bgcspoof.txt', 'bulfelis.txt', 'burintrv.66', 'burltrs', 'burintrv.92', 'burintrv.78', 'rid.txt', 'mindprob.txt', 'lament.txt', 'kzap.txt', 'sucker.txt', 'mike.txt', 'angry_ca.txt', 'asop', 'mario.txt', 'zombies.txt', 'wisteria.txt', 'outcast.dos', 'quest', 'withdraw.cyb', 'beggars.txt', 'buggy.txt', 'blue', 'bishop00.txt', 'bern', 'blackp.txt', 'buldetal.txt', 'bulhuntr.txt', 'blh.txt', 'buldream.txt', 'bulmrx.txt', 'blackrdr', 'blak', 'bulprint.txt', 'bulolli1.txt', 'bulnoopt.txt', 'bulnland.txt', 'bulolli2.txt', 'graymare.txt', 'batlslau.txt', 'blossom.pom', 'bluebrd.txt', 'bullove.txt', 'bumm', 'burn', 's&m_plot', 's&m_that', 'safe', 'arcadia.sty', 'weaver.txt', 'tuc_mees', 'sanpedr2.txt', 'mattress.txt', 'mazarin.txt', 'melissa.txt', 'tearglas.txt', 'thanksg', 'thewave', 'the-tree.txt', 'timetrav.txt', 'tin', 'tinsoldr.txt', 'toilet.s', '13chil.txt', '14.lws', '16.lws', '17.lws', '18.lws', '19.lws', '20.lws', '5orange.txt', '6ablemen.txt', '6napolen.txt', '7oldsamr.txt', '7voysinb.txt', 'musgrave.txt', 'musibrem.txt', 'jackbstl.txt', 'jaynejob.asc', 'jim.asc', '3gables.txt', '3lpigs.txt', '3student.txt', '3wishes.txt', 'radar_ra.txt', 'rainda.txt', 'reap', 'shoscomb.txt', 'shrdfarm.txt', 'shulk.txt', 'sick-kid.txt', 'silverb.txt', 'sis', 'sleprncs.txt', 'snowmaid.txt', 'snowqn1.txt', 'piracy.sto', 'panama.txt', 'paul_har.sto', 'peace.fun', 'wanderer.fun', 'hansgrtl.txt', 'hareleph.txt', 'hareporc.txt', 'haretort.txt', 'stainles.ana', 'angelfur.hum', 'bigred.hum', 'blabnove.hum', 'blabnove.txt', 'brain.damage', 'bulwer.lytton', 'crazy.hum', 'excerpt.hum', 'fantasy.hum', 'fantasy.txt', 'fred.txt', 'hitch2.txt', 'hitch3.txt', 'hotline1.txt', 'hotline3.txt', 'hotline4.txt', 'idi.hum', 'imonly17.txt', 'jerichms.hum', 'fear.hum', 'dakota.txt', 'dan', 'darkness.txt', 'deal', 'bram', 'bran', 'breaks1.asc', 'breaks2.asc', 'breaks3.asc', 'bruce-p.txt', 'lil', 'lionbird', 'lionmane.txt', 'lionmosq.txt', 'lionwar.txt', 'lmermaid.txt', 'lmtchgrl.txt', 'startrek.txt', 'deathmrs.d', 'deer.txt', 'descent.poe', 'diaryflf.txt', 'dicegame.txt', 'dicksong.txt', 'myeyes', 'long1-3.txt', 'lpeargrl.txt', 'lrrhood.txt', 'ltp', 'luf', 'lure.txt', 'fleas.txt', 'flktrp.txt', 'floc', 'floobs.txt', 'flute.txt', 'flytrunk.txt', 'paink-ws.txt', 'parotsha.txt', 'perf', 'mtinder.txt', 'monkking.txt', 'monksol.txt', 'mouslion.txt', 'mindwar', 'missing.txt', 'pussboot.txt', 'pinocch.txt', 'foxncrow.txt', 'foxnstrk.txt', 'mydream.txt', 'cabin.txt', 'cardcnt.txt', 'ccm.txt', 'domain.poe', 'dopedenn.txt', 'dskool.txt', 'dtruck.txt', 'dwar', 'redragon.txt', 'retrib.txt', 'rock', 'roger1.txt', 'running.txt', 'sunday.txt', 'superg1', 'stairdre.txt', 'stsgreek', 'igiv', 'immortal', 'inter', 'adler.txt', 'aesop11.txt', 'aesopa10.txt', 'alad10.txt', 'healer.txt', 'whgdsreg.reg', 'fable.txt', 'space.txt', 'spectacl.poe', 'spider.txt', 'sqzply.txt', 'sre-dark.txt', 'szechuan', 'solitary.txt', 'pregn.txt', 'psf.txt', 'psi', 'psyc', 'plescopm.txt', 'cybersla.txt', 'hole2nar.txt', 'holmesbk.txt', 'home.fil', 'hop-frog.poe', 'horsdonk.txt', 'horswolf.txt', 'hound-b.txt', 'fic1', 'fic2', 'fic3', 'fic4', 'fic5', 'fic7', 'fish.txt', 'frogp.txt', 'island.poe', 'foxngrap.txt', 'fran', 'fea1', 'fea2', 'fea3', 'fearmnky', 'fgoose.txt', 'freeman.fil', 'friend.s', 'friends.txt', 'frum', 'nigel.10', 'nigel.2', 'nigel.3', 'nigel.4', 'nigel.5', 'nigel.6', 'nigel.7', 'nihgel_8.9', 'non2', 'non3', 'non4', 'nigel.1', '4moons.txt', 'telefone.txt', 'hils', 'history5.txt', 'poplstrm.txt', 'pphamlin.txt', 'prince.art', 'progx', 'hell4.txt', 'helmfuse.txt', 'charlie.txt', 'chik', 'clevdonk.txt', 'clon', 'cmoutmou.txt', 'comp', 'crabhern.txt', 'cum', 'wall.art', 'blasters.fic', 'jackmac.fic', 'reality.txt', 'times.fic', 'fourth.fic', 'campfire.txt', 'aislesix.txt', 'bagelman.txt', 'berternie.txt', 'discocanbefun.txt', 'kneeslapper.txt', 'mcdonaldl.txt', 'modemhippy.txt', 'pepdegener.txt', 'socialvikings.txt', 'terrorbears.txt', 'bgb.txt', 'cooldark.txt', 'aisle.six', 'bagel.man', 'cow.exploder', 'curious.george', 'day.in.mcdonald', 'disco.be.fun', 'fowl.death', 'how.ernie.bert', 'keeping.insanit', 'kneeslapper', 'pepsi.degenerat', 'social.vikings', 'spam.key', 'textfile.primer', 'robotech', 'hellmach.txt', '3sonnets.vrs', 'glimpse1.txt', 'bookem2', 'bookem.1', 'bookem3', '100west.txt', 'assorted.txt', 'arctic.txt', 'bestwish', 'forgotte', 'quarter.c1', 'quarter.c10', 'quarter.c11', 'quarter.c12', 'quarter.c13', 'quarter.c14', 'quarter.c15', 'quarter.c16', 'quarter.c17', 'quarter.c18', 'quarter.c19', 'quarter.c2', 'quarter.c3', 'quarter.c4', 'quarter.c5', 'quarter.c6', 'quarter.c7', 'quarter.c8', 'quarter.c9', 'vgilante.txt', 'sre02.txt', 'sre03.txt', 'sretrade.txt', 'sre01.txt', 'sre_feqh.txt', 'sre_sei.txt', 'sre05.txt', 'sre07.txt', 'sre10.txt', 'sre09.txt', 'sre06.txt', 'sre_finl.txt', 'sre08.txt', 'srex.txt', 'sre04.txt', 'poem-1.txt', 'poem-2.txt', 'poem-4.txt', 'tree.txt', 'consumdr.hum', 'snow.txt', 'contrad1.hum', 'candle.hum', 'spiders.txt', 'timem.hac'])"
      ]
     },
     "execution_count": 10,
     "metadata": {
      "tags": []
     },
     "output_type": "execute_result"
    }
   ],
   "source": [
    "docT.keys()"
   ]
  },
  {
   "cell_type": "code",
   "execution_count": null,
   "metadata": {
    "id": "OvzYl30rkd4O"
   },
   "outputs": [],
   "source": []
  }
 ],
 "metadata": {
  "colab": {
   "name": "preprocessing.ipynb",
   "provenance": []
  },
  "kernelspec": {
   "display_name": "Python 3",
   "language": "python",
   "name": "python3"
  },
  "language_info": {
   "codemirror_mode": {
    "name": "ipython",
    "version": 3
   },
   "file_extension": ".py",
   "mimetype": "text/x-python",
   "name": "python",
   "nbconvert_exporter": "python",
   "pygments_lexer": "ipython3",
   "version": "3.7.7"
  }
 },
 "nbformat": 4,
 "nbformat_minor": 1
}
